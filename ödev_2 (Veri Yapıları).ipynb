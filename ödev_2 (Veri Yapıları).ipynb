{
 "cells": [
  {
   "cell_type": "code",
   "execution_count": null,
   "metadata": {
    "scrolled": true
   },
   "outputs": [],
   "source": [
    "Haftanın_gunleri= {\"pazartesi\": 1, \"salı\": 12, \"carsamba\": 3, \"persembe\": 12, \"cuma\": 5, \"cumartesi\": 6, \"pazar\": 7}\n",
    "print (\"Haftanın_gunleri:\", Haftanın_gunleri, \"\\n\")\n",
    "del Haftanın_gunleri [\"salı\"]\n",
    "del Haftanın_gunleri [\"persembe\"]\n",
    "print (Haftanın_gunleri)\n"
   ]
  },
  {
   "cell_type": "code",
   "execution_count": null,
   "metadata": {},
   "outputs": [],
   "source": [
    "ayların_gunleri={\"yimisekiz_ve_otuzgun\": [\"subat\", \"nisan\", \"haziran\", \"eylul\", \"kasım\"],  \n",
    "                \"otuzbirgun\": [\"ocak\", \"mart\", \"mayıs\",\"temmuz\", \"agustos\", \"ekim\", \"aralık\"]}\n",
    "print(ayların_gunleri)\n",
    "    "
   ]
  },
  {
   "cell_type": "code",
   "execution_count": null,
   "metadata": {
    "scrolled": true
   },
   "outputs": [],
   "source": [
    "print(list(ayların_gunleri.keys()))\n",
    "print(list(ayların_gunleri.values()))"
   ]
  },
  {
   "cell_type": "code",
   "execution_count": null,
   "metadata": {},
   "outputs": [],
   "source": [
    "ilkbahar={\"mart\": 31, \"nisan\": 30, \"mayıs\": 31}\n",
    "yaz={\"haziran\": 30, \"temmuz\": 31, \"agustos\": 31}\n",
    "sonbahar={\"eylul\": 30, \"ekim\": 31, \"kasım\": 30}\n",
    "kıs={\"aralık\": 31, \"ocak\": 31, \"subat\": 28}\n"
   ]
  },
  {
   "cell_type": "code",
   "execution_count": null,
   "metadata": {},
   "outputs": [],
   "source": [
    "sum (list(yaz.values()))"
   ]
  },
  {
   "cell_type": "code",
   "execution_count": null,
   "metadata": {},
   "outputs": [],
   "source": []
  }
 ],
 "metadata": {
  "kernelspec": {
   "display_name": "Python 3",
   "language": "python",
   "name": "python3"
  },
  "language_info": {
   "codemirror_mode": {
    "name": "ipython",
    "version": 3
   },
   "file_extension": ".py",
   "mimetype": "text/x-python",
   "name": "python",
   "nbconvert_exporter": "python",
   "pygments_lexer": "ipython3",
   "version": "3.8.5"
  }
 },
 "nbformat": 4,
 "nbformat_minor": 4
}
