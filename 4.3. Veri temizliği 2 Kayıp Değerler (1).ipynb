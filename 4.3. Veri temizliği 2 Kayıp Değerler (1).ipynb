{
 "cells": [
  {
   "cell_type": "code",
   "execution_count": 1,
   "metadata": {},
   "outputs": [],
   "source": [
    "import pandas as pd\n",
    "import numpy as np\n",
    "import warnings\n",
    "warnings.filterwarnings(\"ignore\")"
   ]
  },
  {
   "cell_type": "code",
   "execution_count": 2,
   "metadata": {},
   "outputs": [],
   "source": [
    "states=pd.read_csv(\"C:/Users/user/Downloads/states_all.csv\")"
   ]
  },
  {
   "cell_type": "code",
   "execution_count": 89,
   "metadata": {},
   "outputs": [
    {
     "data": {
      "text/plain": [
       "PRIMARY_KEY                      0.000000\n",
       "STATE                            0.000000\n",
       "YEAR                             0.000000\n",
       "ENROLL                          28.629738\n",
       "TOTAL_REVENUE                   25.655977\n",
       "FEDERAL_REVENUE                 25.655977\n",
       "STATE_REVENUE                   25.655977\n",
       "LOCAL_REVENUE                   25.655977\n",
       "TOTAL_EXPENDITURE               25.655977\n",
       "INSTRUCTION_EXPENDITURE         25.655977\n",
       "SUPPORT_SERVICES_EXPENDITURE    25.655977\n",
       "OTHER_EXPENDITURE               28.629738\n",
       "CAPITAL_OUTLAY_EXPENDITURE      25.655977\n",
       "GRADES_PK_G                     10.087464\n",
       "GRADES_KG_G                      4.839650\n",
       "GRADES_4_G                       4.839650\n",
       "GRADES_8_G                       4.839650\n",
       "GRADES_12_G                      4.839650\n",
       "GRADES_1_8_G                    40.524781\n",
       "GRADES_9_12_G                   37.551020\n",
       "GRADES_ALL_G                     4.839650\n",
       "AVG_MATH_4_SCORE                67.055394\n",
       "AVG_MATH_8_SCORE                64.897959\n",
       "AVG_READING_4_SCORE             62.099125\n",
       "AVG_READING_8_SCORE             67.230321\n",
       "dtype: float64"
      ]
     },
     "execution_count": 89,
     "metadata": {},
     "output_type": "execute_result"
    }
   ],
   "source": [
    "# SORU1 PRIMARY_KEY ve STATE object(kategorik değişken), YEAR integer(tamsayı), kalanlar float (ondalık sayı)\n",
    "states.isnull().sum()*100 / states.shape[0]"
   ]
  },
  {
   "cell_type": "code",
   "execution_count": 3,
   "metadata": {},
   "outputs": [
    {
     "name": "stdout",
     "output_type": "stream",
     "text": [
      "<class 'pandas.core.frame.DataFrame'>\n",
      "RangeIndex: 1715 entries, 0 to 1714\n",
      "Data columns (total 25 columns):\n",
      " #   Column                        Non-Null Count  Dtype  \n",
      "---  ------                        --------------  -----  \n",
      " 0   PRIMARY_KEY                   1715 non-null   object \n",
      " 1   STATE                         1715 non-null   object \n",
      " 2   YEAR                          1715 non-null   int64  \n",
      " 3   ENROLL                        1224 non-null   float64\n",
      " 4   TOTAL_REVENUE                 1275 non-null   float64\n",
      " 5   FEDERAL_REVENUE               1275 non-null   float64\n",
      " 6   STATE_REVENUE                 1275 non-null   float64\n",
      " 7   LOCAL_REVENUE                 1275 non-null   float64\n",
      " 8   TOTAL_EXPENDITURE             1275 non-null   float64\n",
      " 9   INSTRUCTION_EXPENDITURE       1275 non-null   float64\n",
      " 10  SUPPORT_SERVICES_EXPENDITURE  1275 non-null   float64\n",
      " 11  OTHER_EXPENDITURE             1224 non-null   float64\n",
      " 12  CAPITAL_OUTLAY_EXPENDITURE    1275 non-null   float64\n",
      " 13  GRADES_PK_G                   1542 non-null   float64\n",
      " 14  GRADES_KG_G                   1632 non-null   float64\n",
      " 15  GRADES_4_G                    1632 non-null   float64\n",
      " 16  GRADES_8_G                    1632 non-null   float64\n",
      " 17  GRADES_12_G                   1632 non-null   float64\n",
      " 18  GRADES_1_8_G                  1020 non-null   float64\n",
      " 19  GRADES_9_12_G                 1071 non-null   float64\n",
      " 20  GRADES_ALL_G                  1632 non-null   float64\n",
      " 21  AVG_MATH_4_SCORE              565 non-null    float64\n",
      " 22  AVG_MATH_8_SCORE              602 non-null    float64\n",
      " 23  AVG_READING_4_SCORE           650 non-null    float64\n",
      " 24  AVG_READING_8_SCORE           562 non-null    float64\n",
      "dtypes: float64(22), int64(1), object(2)\n",
      "memory usage: 321.6+ KB\n"
     ]
    }
   ],
   "source": [
    "states.info()\n",
    "# Kategorik değişkenlerin ve yılın olduğu ilk 3 satırda boşluk olmadığını görmekteyiz."
   ]
  },
  {
   "cell_type": "code",
   "execution_count": 120,
   "metadata": {},
   "outputs": [
    {
     "name": "stdout",
     "output_type": "stream",
     "text": [
      "ENROLL sütunu için problemli değerler : \n",
      "TOTAL_REVENUE sütunu için problemli değerler : \n",
      "FEDERAL_REVENUE sütunu için problemli değerler : \n",
      "STATE_REVENUE sütunu için problemli değerler : \n",
      "LOCAL_REVENUE sütunu için problemli değerler : \n",
      "TOTAL_EXPENDITURE sütunu için problemli değerler : \n",
      "INSTRUCTION_EXPENDITURE sütunu için problemli değerler : \n",
      "SUPPORT_SERVICES_EXPENDITURE sütunu için problemli değerler : \n",
      "OTHER_EXPENDITURE sütunu için problemli değerler : \n",
      "CAPITAL_OUTLAY_EXPENDITURE sütunu için problemli değerler : \n",
      "GRADES_PK_G sütunu için problemli değerler : \n",
      "GRADES_KG_G sütunu için problemli değerler : \n",
      "GRADES_4_G sütunu için problemli değerler : \n",
      "GRADES_8_G sütunu için problemli değerler : \n",
      "GRADES_12_G sütunu için problemli değerler : \n",
      "GRADES_1_8_G sütunu için problemli değerler : \n",
      "GRADES_9_12_G sütunu için problemli değerler : \n",
      "GRADES_ALL_G sütunu için problemli değerler : \n",
      "AVG_MATH_4_SCORE sütunu için problemli değerler : \n",
      "AVG_MATH_8_SCORE sütunu için problemli değerler : \n",
      "AVG_READING_4_SCORE sütunu için problemli değerler : \n",
      "AVG_READING_8_SCORE sütunu için problemli değerler : \n"
     ]
    }
   ],
   "source": [
    "for sutun_adi in [\"ENROLL\", \"TOTAL_REVENUE\", \"FEDERAL_REVENUE\", \"STATE_REVENUE\", \"LOCAL_REVENUE\", \"TOTAL_EXPENDITURE\",\n",
    "                  \"INSTRUCTION_EXPENDITURE\", \"SUPPORT_SERVICES_EXPENDITURE\", \"OTHER_EXPENDITURE\", \"CAPITAL_OUTLAY_EXPENDITURE\",\n",
    "                 \"GRADES_PK_G\", \"GRADES_KG_G\", \"GRADES_4_G\", \"GRADES_8_G\",\"GRADES_12_G\", \"GRADES_1_8_G\", \"GRADES_9_12_G\",\n",
    "                  \"GRADES_ALL_G\", \"AVG_MATH_4_SCORE\", \"AVG_MATH_8_SCORE\", \"AVG_READING_4_SCORE\", \"AVG_READING_8_SCORE\"]:\n",
    "    print(\"{} sütunu için problemli değerler : \".format(sutun_adi))\n",
    "    for problem in states[sutun_adi]:\n",
    "        try:\n",
    "            float(problem)\n",
    "        except:\n",
    "            print(problem) \n",
    "# Bu yazdığımız kodla sürekli değişkenlerin olduğu sütunlarda ondalık sayılar ve boşluklar haricinde değer olup olmadığını \n",
    "# görüyoruz. Hiç bir sütunda rakam ve boşluk harici değer olmadığını görülüyor."
   ]
  },
  {
   "cell_type": "code",
   "execution_count": null,
   "metadata": {},
   "outputs": [],
   "source": [
    "# SORU2 ENROLL, TOTAL_REVENUE, FEDERAL_REVENUE, STATE_REVENUE, LOCAL_REVENUE, TOTAL_EXPENDITURE, INSTRUCTION_EXPENDITURE,\n",
    "# SUPPORT_SERVICES_EXPENDITURE, OTHER_EXPENDITURE, CAPITAL_OUTLAY_EXPENDITURE değerleri yıllık yapılan harcama değerleridir.\n",
    "# Bunlardaki eksik veriler eyalet bazında ortalamaları alınarak doldurulabilir.\n",
    "# GRADES ile her sınıfın ayrı ayrı verilen eğitim alan öğrenci sayılarını istatiksel olarak doldurmak hatalı olabilir. "
   ]
  },
  {
   "cell_type": "code",
   "execution_count": null,
   "metadata": {},
   "outputs": [],
   "source": [
    "# SORU3 Eksik verilerin o yıl içerisinde gözlemlenen değerlere dayanarak doldurulmuştur. \n",
    "# Boş değerlerin yerine, o yılın ortalaması hesaplanarak yıllık ortalama ile doldurulmuştur. \n",
    "states[\"ENROLL\"].fillna((states.groupby(by=\"YEAR\").mean()[\"ENROLL\"]).mean(), inplace=True)\n",
    "states[\"TOTAL_REVENUE\"].fillna((states.groupby(by=\"YEAR\").mean()[\"TOTAL_REVENUE\"]).mean(), inplace=True)\n",
    "states[\"FEDERAL_REVENUE\"].fillna((states.groupby(by=\"YEAR\").mean()[\"FEDERAL_REVENUE\"]).mean(), inplace=True)\n",
    "states[\"STATE_REVENUE\"].fillna((states.groupby(by=\"YEAR\").mean()[\"STATE_REVENUE\"]).mean(), inplace=True)\n",
    "states[\"LOCAL_REVENUE\"].fillna((states.groupby(by=\"YEAR\").mean()[\"LOCAL_REVENUE\"]).mean(), inplace=True)\n",
    "states[\"TOTAL_EXPENDITURE\"].fillna((states.groupby(by=\"YEAR\").mean()[\"TOTAL_EXPENDITURE\"]).mean(), inplace=True)\n",
    "states[\"INSTRUCTION_EXPENDITURE\"].fillna((states.groupby(by=\"YEAR\").mean()[\"INSTRUCTION_EXPENDITURE\"]).mean(), inplace=True)\n",
    "states[\"SUPPORT_SERVICES_EXPENDITURE\"].fillna((states.groupby(by=\"YEAR\").mean()[\"SUPPORT_SERVICES_EXPENDITURE\"]).mean(), inplace=True)\n",
    "states[\"OTHER_EXPENDITURE\"].fillna((states.groupby(by=\"YEAR\").mean()[\"OTHER_EXPENDITURE\"]).mean(), inplace=True)\n",
    "states[\"CAPITAL_OUTLAY_EXPENDITURE\"].fillna((states.groupby(by=\"STATE\").mean()[\"CAPITAL_OUTLAY_EXPENDITURE\"]).mean(), inplace=True)\n",
    "states[\"GRADES_PK_G\"].fillna((states.groupby(by=\"YEAR\").mean()[\"GRADES_PK_G\"]).mean(), inplace=True)\n",
    "states[\"GRADES_KG_G\"].fillna((states.groupby(by=\"YEAR\").mean()[\"GRADES_KG_G\"]).mean(), inplace=True)\n",
    "states[\"GRADES_4_G\"].fillna((states.groupby(by=\"YEAR\").mean()[\"GRADES_4_G\"]).mean(), inplace=True)\n",
    "states[\"GRADES_8_G\"].fillna((states.groupby(by=\"YEAR\").mean()[\"GRADES_8_G\"]).mean(), inplace=True)\n",
    "states[\"GRADES_12_G\"].fillna((states.groupby(by=\"YEAR\").mean()[\"GRADES_12_G\"]).mean(), inplace=True)\n",
    "states[\"GRADES_1_8_G\"].fillna((states.groupby(by=\"YEAR\").mean()[\"GRADES_1_8_G\"]).mean(), inplace=True)\n",
    "states[\"GRADES_9_12_G\"].fillna((states.groupby(by=\"YEAR\").mean()[\"GRADES_9_12_G\"]).mean(), inplace=True)\n",
    "states[\"GRADES_ALL_G\"].fillna((states.groupby(by=\"YEAR\").mean()[\"GRADES_ALL_G\"]).mean(), inplace=True)\n",
    "states[\"AVG_MATH_4_SCORE\"].fillna((states.groupby(by=\"YEAR\").mean()[\"AVG_MATH_4_SCORE\"]).mean(), inplace=True)\n",
    "states[\"AVG_MATH_8_SCORE\"].fillna((states.groupby(by=\"YEAR\").mean()[\"AVG_MATH_8_SCORE\"]).mean(), inplace=True)\n",
    "states[\"AVG_READING_4_SCORE\"].fillna((states.groupby(by=\"YEAR\").mean()[\"AVG_READING_4_SCORE\"]).mean(), inplace=True)\n",
    "states[\"AVG_READING_8_SCORE\"].fillna((states.groupby(by=\"YEAR\").mean()[\"AVG_READING_8_SCORE\"]).mean(), inplace=True)\n"
   ]
  },
  {
   "cell_type": "code",
   "execution_count": 116,
   "metadata": {},
   "outputs": [
    {
     "name": "stdout",
     "output_type": "stream",
     "text": [
      "<class 'pandas.core.frame.DataFrame'>\n",
      "RangeIndex: 1715 entries, 0 to 1714\n",
      "Data columns (total 25 columns):\n",
      " #   Column                        Non-Null Count  Dtype  \n",
      "---  ------                        --------------  -----  \n",
      " 0   PRIMARY_KEY                   1715 non-null   object \n",
      " 1   STATE                         1715 non-null   object \n",
      " 2   YEAR                          1715 non-null   int64  \n",
      " 3   ENROLL                        1715 non-null   float32\n",
      " 4   TOTAL_REVENUE                 1715 non-null   float32\n",
      " 5   FEDERAL_REVENUE               1715 non-null   float64\n",
      " 6   STATE_REVENUE                 1715 non-null   float64\n",
      " 7   LOCAL_REVENUE                 1715 non-null   float64\n",
      " 8   TOTAL_EXPENDITURE             1715 non-null   float64\n",
      " 9   INSTRUCTION_EXPENDITURE       1715 non-null   float64\n",
      " 10  SUPPORT_SERVICES_EXPENDITURE  1715 non-null   float64\n",
      " 11  OTHER_EXPENDITURE             1715 non-null   float64\n",
      " 12  CAPITAL_OUTLAY_EXPENDITURE    1715 non-null   float64\n",
      " 13  GRADES_PK_G                   1715 non-null   float64\n",
      " 14  GRADES_KG_G                   1715 non-null   float64\n",
      " 15  GRADES_4_G                    1715 non-null   float64\n",
      " 16  GRADES_8_G                    1715 non-null   float64\n",
      " 17  GRADES_12_G                   1715 non-null   float64\n",
      " 18  GRADES_1_8_G                  1715 non-null   float64\n",
      " 19  GRADES_9_12_G                 1715 non-null   float64\n",
      " 20  GRADES_ALL_G                  1715 non-null   float64\n",
      " 21  AVG_MATH_4_SCORE              1715 non-null   float64\n",
      " 22  AVG_MATH_8_SCORE              1715 non-null   float64\n",
      " 23  AVG_READING_4_SCORE           1715 non-null   float64\n",
      " 24  AVG_READING_8_SCORE           1715 non-null   float64\n",
      "dtypes: float32(2), float64(20), int64(1), object(2)\n",
      "memory usage: 308.2+ KB\n"
     ]
    }
   ],
   "source": [
    "states.info()"
   ]
  },
  {
   "cell_type": "code",
   "execution_count": 122,
   "metadata": {},
   "outputs": [
    {
     "data": {
      "text/plain": [
       "array([917541.56, 727716.  , 121156.  , ..., 276764.  , 857736.  ,\n",
       "        94511.  ], dtype=float32)"
      ]
     },
     "execution_count": 122,
     "metadata": {},
     "output_type": "execute_result"
    }
   ],
   "source": [
    "# SORU4 Tüm sütunlar için bu işlem gerçekleştirilir..\n",
    "ent1 = states.ENROLL \n",
    "\n",
    "for i in range(0, len(ent1)):\n",
    "    if pd.isnull(ent1[i]):\n",
    "        ent1[i] = (ent1[i-1]+ ent[i+1]) / 2\n",
    "        \n",
    "        \n",
    "states[\"ENROLL\"].unique()"
   ]
  },
  {
   "cell_type": "code",
   "execution_count": null,
   "metadata": {},
   "outputs": [],
   "source": [
    "# SORU5 Kullandığımız yöntemler birbirinden oldukça farklı. Elde ettiğimiz sonuçlarda oldukça farklı.\n",
    "# Her sütünu ayrı ayrı değerlendirip en mantıklı ve uygulanabilir sonucu bulmalıyız."
   ]
  },
  {
   "cell_type": "code",
   "execution_count": null,
   "metadata": {},
   "outputs": [],
   "source": []
  }
 ],
 "metadata": {
  "kernelspec": {
   "display_name": "Python 3",
   "language": "python",
   "name": "python3"
  },
  "language_info": {
   "codemirror_mode": {
    "name": "ipython",
    "version": 3
   },
   "file_extension": ".py",
   "mimetype": "text/x-python",
   "name": "python",
   "nbconvert_exporter": "python",
   "pygments_lexer": "ipython3",
   "version": "3.8.5"
  }
 },
 "nbformat": 4,
 "nbformat_minor": 4
}
