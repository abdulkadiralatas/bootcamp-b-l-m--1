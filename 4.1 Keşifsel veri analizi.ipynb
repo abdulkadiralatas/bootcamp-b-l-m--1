{
 "cells": [
  {
   "cell_type": "code",
   "execution_count": null,
   "metadata": {},
   "outputs": [],
   "source": [
    "# 1.Keşifsel Veri Analizinin amacı: Araştırma, yeni şeyler keşfetmek için yapıldığından, yeni ilişkiler ve kalıplar keşfetmek için\n",
    "# verileri araştırırız veya varsayımlarımızın verilerde haklı olup olmadığını gözlemleriz.Çoğu zaman, bu veriler, ham bir\n",
    "# şekilde (internetten toplanan metinler gibi) gelir ve bu verilerden en iyi şekilde yararlanmak için, bu verilerin ilgisiz ve \n",
    "# potansiyel olarak yanıltıcı kısımlarından kurtulmamız ve verileri kolayca çalışabileceğimiz bir forma dönüştürmemiz gerekir.\n",
    "# Bu, verilerin kalitesini artırmaya yönelik ilk adımdır ve herhangi bir veri bilimi projesinde birinci dereceden önem taşır.\n"
   ]
  },
  {
   "cell_type": "code",
   "execution_count": null,
   "metadata": {},
   "outputs": [],
   "source": [
    "# 2.a.1. Derecelendirme 1 İla 5 arası olacağından objektif olmayabilir. Yorumları değerlendirecek kişi veya kişilerin yapacağı\n",
    "#        değerlendirmeler bu kişilerin karakteri, eğitimi ve kişiliği ile yakından ilgilidir.\n",
    "#     2. Yorum yapan tüketicilerin değerlendirmeleride bu kişilerin karakteri, eğitimi ve kişiliği ile ilgilidir. Bazan çok \n",
    "#        bir müşteri çok basit bir mevzuyu çok büyütebilir veya tam tersi umursamaz bir müşteri kendisine satın aldığı ürünün \n",
    "#        ulaşmadığı durumu bile önemsemeyebilir.\n",
    "#     3. Denek sayısı çok önemli. Çok yüksek sayılarda yorumu analiz etmek çok zor olabilir.\n",
    "#   b. Yorumcularında puanlama yapmasını sağlardım. (Şuan çoğu şirkette en başta yıldız verilmesini istiyor.) Ayrıca içeriklerin\n",
    "#      titizlikle incelenmesi gerekir.\n",
    "#   c. Belli oranda tüketicinin ortak olarak şikayet ettiği konular problem sahalarını ortaya çıkarır. Eğer bunlar düzeltilebi-\n",
    "#      konularsa örneğin; paketleme, nakliye, ürünün iyice açıklanması gibi sorunlar ise faydalıdır. Aksine etkileyemeyeceğimiz\n",
    "#      hususlarsa; piyasa şartlarına uygun fiyat, yasal mevzuat, üreticinin zorunlu koşulları gibi faydalı bilgi olmaz."
   ]
  }
 ],
 "metadata": {
  "kernelspec": {
   "display_name": "Python 3",
   "language": "python",
   "name": "python3"
  },
  "language_info": {
   "codemirror_mode": {
    "name": "ipython",
    "version": 3
   },
   "file_extension": ".py",
   "mimetype": "text/x-python",
   "name": "python",
   "nbconvert_exporter": "python",
   "pygments_lexer": "ipython3",
   "version": "3.8.5"
  }
 },
 "nbformat": 4,
 "nbformat_minor": 4
}
