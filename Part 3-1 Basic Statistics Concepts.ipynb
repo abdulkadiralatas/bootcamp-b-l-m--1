{
 "cells": [
  {
   "cell_type": "code",
   "execution_count": 54,
   "metadata": {},
   "outputs": [],
   "source": [
    "import pandas as pd\n",
    "import numpy as np\n",
    "import statistics\n",
    "import warnings\n",
    "warnings.filterwarnings(\"ignore\")"
   ]
  },
  {
   "cell_type": "code",
   "execution_count": 156,
   "metadata": {},
   "outputs": [
    {
     "data": {
      "text/html": [
       "<div>\n",
       "<style scoped>\n",
       "    .dataframe tbody tr th:only-of-type {\n",
       "        vertical-align: middle;\n",
       "    }\n",
       "\n",
       "    .dataframe tbody tr th {\n",
       "        vertical-align: top;\n",
       "    }\n",
       "\n",
       "    .dataframe thead th {\n",
       "        text-align: right;\n",
       "    }\n",
       "</style>\n",
       "<table border=\"1\" class=\"dataframe\">\n",
       "  <thead>\n",
       "    <tr style=\"text-align: right;\">\n",
       "      <th></th>\n",
       "      <th>rast</th>\n",
       "      <th>rast_kare</th>\n",
       "      <th>rast_kök</th>\n",
       "    </tr>\n",
       "  </thead>\n",
       "  <tbody>\n",
       "    <tr>\n",
       "      <th>0</th>\n",
       "      <td>25.931606</td>\n",
       "      <td>51.863211</td>\n",
       "      <td>5.092308</td>\n",
       "    </tr>\n",
       "    <tr>\n",
       "      <th>1</th>\n",
       "      <td>20.307138</td>\n",
       "      <td>40.614277</td>\n",
       "      <td>4.506344</td>\n",
       "    </tr>\n",
       "    <tr>\n",
       "      <th>2</th>\n",
       "      <td>25.795705</td>\n",
       "      <td>51.591410</td>\n",
       "      <td>5.078947</td>\n",
       "    </tr>\n",
       "    <tr>\n",
       "      <th>3</th>\n",
       "      <td>47.240120</td>\n",
       "      <td>94.480240</td>\n",
       "      <td>6.873145</td>\n",
       "    </tr>\n",
       "    <tr>\n",
       "      <th>4</th>\n",
       "      <td>39.875495</td>\n",
       "      <td>79.750989</td>\n",
       "      <td>6.314705</td>\n",
       "    </tr>\n",
       "    <tr>\n",
       "      <th>...</th>\n",
       "      <td>...</td>\n",
       "      <td>...</td>\n",
       "      <td>...</td>\n",
       "    </tr>\n",
       "    <tr>\n",
       "      <th>94</th>\n",
       "      <td>17.755049</td>\n",
       "      <td>35.510097</td>\n",
       "      <td>4.213674</td>\n",
       "    </tr>\n",
       "    <tr>\n",
       "      <th>95</th>\n",
       "      <td>51.123161</td>\n",
       "      <td>102.246323</td>\n",
       "      <td>7.150046</td>\n",
       "    </tr>\n",
       "    <tr>\n",
       "      <th>96</th>\n",
       "      <td>24.378628</td>\n",
       "      <td>48.757257</td>\n",
       "      <td>4.937472</td>\n",
       "    </tr>\n",
       "    <tr>\n",
       "      <th>97</th>\n",
       "      <td>37.949641</td>\n",
       "      <td>75.899282</td>\n",
       "      <td>6.160328</td>\n",
       "    </tr>\n",
       "    <tr>\n",
       "      <th>98</th>\n",
       "      <td>17.648618</td>\n",
       "      <td>35.297237</td>\n",
       "      <td>4.201026</td>\n",
       "    </tr>\n",
       "  </tbody>\n",
       "</table>\n",
       "<p>99 rows × 3 columns</p>\n",
       "</div>"
      ],
      "text/plain": [
       "         rast   rast_kare  rast_kök\n",
       "0   25.931606   51.863211  5.092308\n",
       "1   20.307138   40.614277  4.506344\n",
       "2   25.795705   51.591410  5.078947\n",
       "3   47.240120   94.480240  6.873145\n",
       "4   39.875495   79.750989  6.314705\n",
       "..        ...         ...       ...\n",
       "94  17.755049   35.510097  4.213674\n",
       "95  51.123161  102.246323  7.150046\n",
       "96  24.378628   48.757257  4.937472\n",
       "97  37.949641   75.899282  6.160328\n",
       "98  17.648618   35.297237  4.201026\n",
       "\n",
       "[99 rows x 3 columns]"
      ]
     },
     "execution_count": 156,
     "metadata": {},
     "output_type": "execute_result"
    }
   ],
   "source": [
    "df=pd.DataFrame()\n",
    "df[\"rast\"]=np.random.normal(30, 10, 99)\n",
    "df[\"rast_kare\"]=df[\"rast\"]*2\n",
    "df[\"rast_kök\"]=np.sqrt(df[\"rast\"])\n",
    "df"
   ]
  },
  {
   "cell_type": "code",
   "execution_count": 157,
   "metadata": {},
   "outputs": [
    {
     "name": "stdout",
     "output_type": "stream",
     "text": [
      "30.137050228885197\n",
      "60.274100457770395\n",
      "5.405022394556689\n",
      "30.137050228885197\n",
      "60.274100457770395\n",
      "5.405022394556689\n"
     ]
    }
   ],
   "source": [
    "#Ortalama \n",
    "print(sum(df[\"rast\"]) / len(df[\"rast\"]))\n",
    "print(sum(df[\"rast_kare\"]) / len(df[\"rast_kare\"]))\n",
    "print(sum(df[\"rast_kök\"]) / len(df[\"rast_kök\"]))\n",
    "print(np.mean(df[\"rast\"]))\n",
    "print(np.mean(df[\"rast_kare\"]))\n",
    "print(np.mean(df[\"rast_kök\"]))"
   ]
  },
  {
   "cell_type": "code",
   "execution_count": 158,
   "metadata": {},
   "outputs": [
    {
     "name": "stdout",
     "output_type": "stream",
     "text": [
      "4.8040868540034865\n",
      "9.608173708006973\n",
      "2.1918227241279085\n",
      "29.42096021975869\n",
      "58.84192043951738\n",
      "5.424109163702247\n",
      "29.42096021975869\n",
      "58.84192043951738\n",
      "5.424109163702247\n"
     ]
    }
   ],
   "source": [
    "# Medyan\n",
    "print(df[\"rast\"][(len(df[\"rast\"])//2)])\n",
    "print(df[\"rast_kare\"][(len(df[\"rast\"])//2)])\n",
    "print(df[\"rast_kök\"][(len(df[\"rast\"])//2)])\n",
    "\n",
    "print(statistics.median(df[\"rast\"]))\n",
    "print(statistics.median(df[\"rast_kare\"]))\n",
    "print(statistics.median(df[\"rast_kök\"]))\n",
    "\n",
    "print(np.median(df[\"rast\"]))\n",
    "print(np.median(df[\"rast_kare\"]))\n",
    "print(np.median(df[\"rast_kök\"]))"
   ]
  },
  {
   "cell_type": "code",
   "execution_count": 159,
   "metadata": {},
   "outputs": [
    {
     "name": "stdout",
     "output_type": "stream",
     "text": [
      "4.8040868540034865\n",
      "9.608173708006973\n",
      "2.1918227241279085\n",
      "25.93160560794066\n",
      "51.86321121588132\n",
      "5.09230847533225\n"
     ]
    }
   ],
   "source": [
    "# Mode\n",
    "(values, counts) = np.unique(df[\"rast\"], return_counts=True)\n",
    "aa= np.argmax(counts)\n",
    "print(values[aa])\n",
    "(values, counts) = np.unique(df[\"rast_kare\"], return_counts=True)\n",
    "aa1= np.argmax(counts)\n",
    "print(values[aa1])\n",
    "(values, counts) = np.unique(df[\"rast_kök\"], return_counts=True)\n",
    "aa3= np.argmax(counts)\n",
    "print(values[aa3])\n",
    "\n",
    "print(statistics.mode(df[\"rast\"]))\n",
    "print(statistics.mode(df[\"rast_kare\"]))\n",
    "print(statistics.mode(df[\"rast_kök\"]))"
   ]
  },
  {
   "cell_type": "code",
   "execution_count": 160,
   "metadata": {},
   "outputs": [
    {
     "name": "stdout",
     "output_type": "stream",
     "text": [
      "101.10092577016391\n",
      "404.40370308065565\n",
      "0.932199297748599\n",
      "101.10092577016391\n",
      "404.40370308065565\n",
      "0.932199297748599\n"
     ]
    }
   ],
   "source": [
    "# Varyans\n",
    "print((sum((df[\"rast\"]-np.mean(df[\"rast\"]))**2)) / (len(df[\"rast\"])-1))\n",
    "print((sum((df[\"rast_kare\"]-np.mean(df[\"rast_kare\"]))**2)) / (len(df[\"rast_kare\"])-1))\n",
    "print((sum((df[\"rast_kök\"]-np.mean(df[\"rast_kök\"]))**2)) / (len(df[\"rast_kök\"])-1))\n",
    "\n",
    "print(np.var(df[\"rast\"], ddof=1))\n",
    "print(np.var(df[\"rast_kare\"], ddof=1))\n",
    "print(np.var(df[\"rast_kök\"], ddof=1))\n"
   ]
  },
  {
   "cell_type": "code",
   "execution_count": 165,
   "metadata": {},
   "outputs": [
    {
     "name": "stdout",
     "output_type": "stream",
     "text": [
      "10.054895612096821\n",
      "20.109791224193643\n",
      "0.9655046855135396\n",
      "10.054895612096821\n",
      "20.109791224193643\n",
      "0.9655046855135396\n"
     ]
    }
   ],
   "source": [
    "# Standart Sapma\n",
    "print(np.sqrt((sum((df[\"rast\"]-np.mean(df[\"rast\"]))**2)) / (len(df[\"rast\"])-1)))\n",
    "print(np.sqrt((sum((df[\"rast_kare\"]-np.mean(df[\"rast_kare\"]))**2)) / (len(df[\"rast_kare\"])-1)))\n",
    "print(np.sqrt((sum((df[\"rast_kök\"]-np.mean(df[\"rast_kök\"]))**2)) / (len(df[\"rast_kök\"])-1)))\n",
    "\n",
    "print(np.std(df[\"rast\"], ddof=1))\n",
    "print(np.std(df[\"rast_kare\"], ddof=1))\n",
    "print(np.std(df[\"rast_kök\"], ddof=1))"
   ]
  },
  {
   "cell_type": "code",
   "execution_count": 184,
   "metadata": {},
   "outputs": [
    {
     "name": "stdout",
     "output_type": "stream",
     "text": [
      "1.0105550318641228\n",
      "2.0211100637282455\n",
      "0.09703687197510605\n",
      "1.0105550318641228\n",
      "2.0211100637282455\n",
      "0.09703687197510605\n"
     ]
    }
   ],
   "source": [
    "# Standart Hata\n",
    "print((np.sqrt((sum((df[\"rast\"]-np.mean(df[\"rast\"]))**2)) / (len(df[\"rast\"])-1)))/ np.sqrt(len(df[\"rast\"])))\n",
    "print((np.sqrt((sum((df[\"rast_kare\"]-np.mean(df[\"rast_kare\"]))**2)) / (len(df[\"rast_kare\"])-1)))/ np.sqrt(len(df[\"rast_kare\"])))\n",
    "print((np.sqrt((sum((df[\"rast_kök\"]-np.mean(df[\"rast_kök\"]))**2)) / (len(df[\"rast_kök\"])-1)))/ np.sqrt(len(df[\"rast_kök\"])))\n",
    "\n",
    "print(np.std(df[\"rast\"], ddof=1) / np.sqrt(len(df[\"rast\"])))\n",
    "print(np.std(df[\"rast_kare\"], ddof=1) / np.sqrt(len(df[\"rast_kare\"])))\n",
    "print(np.std(df[\"rast_kök\"], ddof=1) / np.sqrt(len(df[\"rast_kök\"])))"
   ]
  },
  {
   "cell_type": "code",
   "execution_count": null,
   "metadata": {},
   "outputs": [],
   "source": []
  },
  {
   "cell_type": "code",
   "execution_count": null,
   "metadata": {},
   "outputs": [],
   "source": []
  },
  {
   "cell_type": "code",
   "execution_count": null,
   "metadata": {},
   "outputs": [],
   "source": []
  },
  {
   "cell_type": "code",
   "execution_count": null,
   "metadata": {},
   "outputs": [],
   "source": []
  },
  {
   "cell_type": "code",
   "execution_count": null,
   "metadata": {},
   "outputs": [],
   "source": []
  },
  {
   "cell_type": "code",
   "execution_count": null,
   "metadata": {},
   "outputs": [],
   "source": []
  },
  {
   "cell_type": "code",
   "execution_count": null,
   "metadata": {},
   "outputs": [],
   "source": []
  }
 ],
 "metadata": {
  "kernelspec": {
   "display_name": "Python 3",
   "language": "python",
   "name": "python3"
  },
  "language_info": {
   "codemirror_mode": {
    "name": "ipython",
    "version": 3
   },
   "file_extension": ".py",
   "mimetype": "text/x-python",
   "name": "python",
   "nbconvert_exporter": "python",
   "pygments_lexer": "ipython3",
   "version": "3.8.5"
  }
 },
 "nbformat": 4,
 "nbformat_minor": 4
}
