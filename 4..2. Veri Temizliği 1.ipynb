{
 "cells": [
  {
   "cell_type": "code",
   "execution_count": null,
   "metadata": {},
   "outputs": [],
   "source": [
    "# Rank değişkenini kategorik olarak değerlendirirsek; çok fazla grup olmadığından (6 grup) üzerinde işlem yapmamamız kolay olur.\n",
    "# Dercelendirme sayısal anlamda herhangi bir işlem yapmayı anlamlı kılmıyor. Bu yüzden sayı olmasına ihtiyaç yok bence."
   ]
  },
  {
   "cell_type": "code",
   "execution_count": 1,
   "metadata": {},
   "outputs": [],
   "source": [
    "# Yaş: Oran değişkenidir.\n",
    "# Maaş: Oran değişkenidir.\n",
    "# Gelir: Nominal değişkendir. Gruplandırılabir, altgelir, üstgelir seviyeleri gibi.\n",
    "# Müşteri türü: Nominal değişkendir.\n",
    "# Hisse senedi fiyatı: Oran değişkenidir.\n"
   ]
  }
 ],
 "metadata": {
  "kernelspec": {
   "display_name": "Python 3",
   "language": "python",
   "name": "python3"
  },
  "language_info": {
   "codemirror_mode": {
    "name": "ipython",
    "version": 3
   },
   "file_extension": ".py",
   "mimetype": "text/x-python",
   "name": "python",
   "nbconvert_exporter": "python",
   "pygments_lexer": "ipython3",
   "version": "3.8.5"
  }
 },
 "nbformat": 4,
 "nbformat_minor": 4
}
