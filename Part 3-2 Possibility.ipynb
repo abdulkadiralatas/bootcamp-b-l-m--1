{
 "cells": [
  {
   "cell_type": "code",
   "execution_count": 1,
   "metadata": {},
   "outputs": [
    {
     "name": "stdout",
     "output_type": "stream",
     "text": [
      "Rastgele seçilen bozuk bir bilgisayarın B şirketi tarafından üretilme olasılığı % 0.5\n"
     ]
    }
   ],
   "source": [
    "# P(A)=0.40 P(B)=0.40 P(C)=0.20\n",
    "# P(D|A)=0.015 P(D|B)=0.020 P(D|C)=0.010\n",
    "# P(B|D) = P(D|B) * P(B) / P(D) = P(D|B) * P(B) / P(D|A)*P(A) + P(D|B)*P(B) + P(D|B)*P(B)\n",
    "\n",
    "x= 0.02 * 0.4 / ((0.015*0.4)+ (0.4*0.02) + (0.01*0.2))\n",
    "print (\"Rastgele seçilen bozuk bir bilgisayarın B şirketi tarafından üretilme olasılığı % {}\".format(x))\n"
   ]
  },
  {
   "cell_type": "code",
   "execution_count": null,
   "metadata": {},
   "outputs": [],
   "source": []
  }
 ],
 "metadata": {
  "kernelspec": {
   "display_name": "Python 3",
   "language": "python",
   "name": "python3"
  },
  "language_info": {
   "codemirror_mode": {
    "name": "ipython",
    "version": 3
   },
   "file_extension": ".py",
   "mimetype": "text/x-python",
   "name": "python",
   "nbconvert_exporter": "python",
   "pygments_lexer": "ipython3",
   "version": "3.8.5"
  }
 },
 "nbformat": 4,
 "nbformat_minor": 4
}
