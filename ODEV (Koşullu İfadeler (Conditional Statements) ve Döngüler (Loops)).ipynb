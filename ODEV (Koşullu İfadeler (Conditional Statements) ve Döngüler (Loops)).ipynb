{
 "cells": [
  {
   "cell_type": "code",
   "execution_count": null,
   "metadata": {},
   "outputs": [],
   "source": [
    "a=input(\"Çevireceğiniz sıcaklık birimini seçiniz(c/f): \")\n",
    "while a.isdigit():\n",
    "    a=input(\"Çevireceğiniz sıcaklık birimini seçiniz(c/f):\")\n",
    "if str(a)==\"c\" :\n",
    "    b=input(\"Sıcaklığı Santigrat olarak giriniz:\")\n",
    "    f=((int(b)*9)/5)+32\n",
    "    metin= \"{} Santigrat derece {:.0f} Fahrenheit derecedir.\"\n",
    "    print(metin.format(b, f))\n",
    "    print(\"{}C--> {:.0f} F\".format(b,f))\n",
    "    \n",
    "elif str(a)==\"f\":\n",
    "     d=input(\"Sıcaklığı Fahrenheit olarak giriniz: \")\n",
    "     e=((int(d)-32)*5/9)\n",
    "     print(\"{} Fahrenheit derece {:.0f} Santigrat  derecedir.\".format(d,e))\n",
    "     print(\"{}F--> {:.0f} C\".format(d,e))   \n",
    "else:\n",
    "   a=input(\"Çevireceğiniz sıcaklık birimini seçiniz(c/f): \")\n",
    "\n"
   ]
  },
  {
   "cell_type": "code",
   "execution_count": null,
   "metadata": {},
   "outputs": [],
   "source": [
    "a=input(\"Bir kelime gir: \")\n",
    "b=len(a)-1\n",
    "while b>=0:\n",
    "    print(a[b], end=\"\")\n",
    "    b-=1\n"
   ]
  },
  {
   "cell_type": "code",
   "execution_count": null,
   "metadata": {},
   "outputs": [],
   "source": [
    "a=0\n",
    "b=[0, 1]\n",
    "for c in range (0, 51):\n",
    "    d=int(b[a])+int(b[a+1])\n",
    "    b.append(d)\n",
    "    a+=1\n",
    "print (\"50 sayısının Fibonacci'si: \", b[50])"
   ]
  },
  {
   "cell_type": "code",
   "execution_count": null,
   "metadata": {},
   "outputs": [],
   "source": [
    "a=input (\"Bir sayı girin: \")\n",
    "carpım=[b*int(a) for b in range (1,11)]\n",
    "c=[d for d in range(1,11)]\n",
    "for x, y in zip (carpım, c):\n",
    "    print(y, \"X %d =\"%int(a), x)  \n"
   ]
  },
  {
   "cell_type": "code",
   "execution_count": null,
   "metadata": {},
   "outputs": [],
   "source": [
    "tek_sayılar=[a**2 for a in range(1,21) if a%2!=0]\n",
    "print (tek_sayılar)\n",
    "cift_sayılar=[b**3 for b in range(1,21) if b%2==0]\n",
    "print (cift_sayılar)"
   ]
  },
  {
   "cell_type": "code",
   "execution_count": null,
   "metadata": {},
   "outputs": [],
   "source": []
  }
 ],
 "metadata": {
  "kernelspec": {
   "display_name": "Python 3",
   "language": "python",
   "name": "python3"
  },
  "language_info": {
   "codemirror_mode": {
    "name": "ipython",
    "version": 3
   },
   "file_extension": ".py",
   "mimetype": "text/x-python",
   "name": "python",
   "nbconvert_exporter": "python",
   "pygments_lexer": "ipython3",
   "version": "3.8.5"
  }
 },
 "nbformat": 4,
 "nbformat_minor": 4
}
