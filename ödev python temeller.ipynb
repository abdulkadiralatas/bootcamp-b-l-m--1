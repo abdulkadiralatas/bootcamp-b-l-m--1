{
 "cells": [
  {
   "cell_type": "code",
   "execution_count": 2,
   "metadata": {},
   "outputs": [
    {
     "name": "stdout",
     "output_type": "stream",
     "text": [
      "Günlük ortalama %12 artan bitcoine 1000 $ yatırmış olsaydınız bir hafta sonunda paranız:2210.681 $ olurdu.\n"
     ]
    }
   ],
   "source": [
    "a=1000\n",
    "a1=a*12/100+a\n",
    "a2=a1*12/100+a1\n",
    "a3=a2*12/100+a2\n",
    "a4=a3*12/100+a3\n",
    "a5=a4*12/100+a4\n",
    "a6=a5*12/100+a5\n",
    "a7=a6*12/100+a6\n",
    "print(\"Günlük ortalama %12 artan bitcoine 1000 $ yatırmış olsaydınız bir hafta sonunda paranız:{:.3f}\".format(a7), \"$ olurdu.\")"
   ]
  },
  {
   "cell_type": "code",
   "execution_count": 3,
   "metadata": {},
   "outputs": [
    {
     "name": "stdout",
     "output_type": "stream",
     "text": [
      "Hafta başında 1000 dolarlık bitcoin aldığımızda günde ortalama %12\n",
      "      kazançla, bir hafta sonunda 1210.68 dolar kazanırdık.\n"
     ]
    }
   ],
   "source": [
    "a=1000\n",
    "b=12\n",
    "c=1210.68\n",
    "print(\"\"\"Hafta başında {} dolarlık bitcoin aldığımızda günde ortalama %{}\n",
    "      kazançla, bir hafta sonunda {} dolar kazanırdık.\"\"\".format(a, b, c))"
   ]
  },
  {
   "cell_type": "code",
   "execution_count": null,
   "metadata": {},
   "outputs": [],
   "source": [
    "user=input (\"Dosya adı:\")\n",
    "print(user+\".py\")"
   ]
  },
  {
   "cell_type": "code",
   "execution_count": null,
   "metadata": {},
   "outputs": [],
   "source": []
  }
 ],
 "metadata": {
  "kernelspec": {
   "display_name": "Python 3",
   "language": "python",
   "name": "python3"
  },
  "language_info": {
   "codemirror_mode": {
    "name": "ipython",
    "version": 3
   },
   "file_extension": ".py",
   "mimetype": "text/x-python",
   "name": "python",
   "nbconvert_exporter": "python",
   "pygments_lexer": "ipython3",
   "version": "3.8.5"
  }
 },
 "nbformat": 4,
 "nbformat_minor": 4
}
