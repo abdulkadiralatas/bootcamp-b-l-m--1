{
 "cells": [
  {
   "cell_type": "code",
   "execution_count": 1,
   "metadata": {},
   "outputs": [],
   "source": [
    "import pandas as pd\n",
    "import numpy as np\n",
    "import statistics\n",
    "import warnings\n",
    "warnings.filterwarnings(\"ignore\")"
   ]
  },
  {
   "cell_type": "code",
   "execution_count": 2,
   "metadata": {},
   "outputs": [
    {
     "data": {
      "text/html": [
       "<div>\n",
       "<style scoped>\n",
       "    .dataframe tbody tr th:only-of-type {\n",
       "        vertical-align: middle;\n",
       "    }\n",
       "\n",
       "    .dataframe tbody tr th {\n",
       "        vertical-align: top;\n",
       "    }\n",
       "\n",
       "    .dataframe thead th {\n",
       "        text-align: right;\n",
       "    }\n",
       "</style>\n",
       "<table border=\"1\" class=\"dataframe\">\n",
       "  <thead>\n",
       "    <tr style=\"text-align: right;\">\n",
       "      <th></th>\n",
       "      <th>rast</th>\n",
       "      <th>rast_kare</th>\n",
       "      <th>rast_kök</th>\n",
       "    </tr>\n",
       "  </thead>\n",
       "  <tbody>\n",
       "    <tr>\n",
       "      <th>0</th>\n",
       "      <td>14.471045</td>\n",
       "      <td>28.942090</td>\n",
       "      <td>3.804083</td>\n",
       "    </tr>\n",
       "    <tr>\n",
       "      <th>1</th>\n",
       "      <td>32.178683</td>\n",
       "      <td>64.357365</td>\n",
       "      <td>5.672626</td>\n",
       "    </tr>\n",
       "    <tr>\n",
       "      <th>2</th>\n",
       "      <td>12.624844</td>\n",
       "      <td>25.249688</td>\n",
       "      <td>3.553146</td>\n",
       "    </tr>\n",
       "    <tr>\n",
       "      <th>3</th>\n",
       "      <td>24.356541</td>\n",
       "      <td>48.713081</td>\n",
       "      <td>4.935235</td>\n",
       "    </tr>\n",
       "    <tr>\n",
       "      <th>4</th>\n",
       "      <td>14.834903</td>\n",
       "      <td>29.669806</td>\n",
       "      <td>3.851610</td>\n",
       "    </tr>\n",
       "    <tr>\n",
       "      <th>...</th>\n",
       "      <td>...</td>\n",
       "      <td>...</td>\n",
       "      <td>...</td>\n",
       "    </tr>\n",
       "    <tr>\n",
       "      <th>94</th>\n",
       "      <td>29.674588</td>\n",
       "      <td>59.349176</td>\n",
       "      <td>5.447439</td>\n",
       "    </tr>\n",
       "    <tr>\n",
       "      <th>95</th>\n",
       "      <td>32.358603</td>\n",
       "      <td>64.717205</td>\n",
       "      <td>5.688462</td>\n",
       "    </tr>\n",
       "    <tr>\n",
       "      <th>96</th>\n",
       "      <td>22.284221</td>\n",
       "      <td>44.568441</td>\n",
       "      <td>4.720617</td>\n",
       "    </tr>\n",
       "    <tr>\n",
       "      <th>97</th>\n",
       "      <td>23.194850</td>\n",
       "      <td>46.389700</td>\n",
       "      <td>4.816103</td>\n",
       "    </tr>\n",
       "    <tr>\n",
       "      <th>98</th>\n",
       "      <td>28.836935</td>\n",
       "      <td>57.673870</td>\n",
       "      <td>5.370003</td>\n",
       "    </tr>\n",
       "  </tbody>\n",
       "</table>\n",
       "<p>99 rows × 3 columns</p>\n",
       "</div>"
      ],
      "text/plain": [
       "         rast  rast_kare  rast_kök\n",
       "0   14.471045  28.942090  3.804083\n",
       "1   32.178683  64.357365  5.672626\n",
       "2   12.624844  25.249688  3.553146\n",
       "3   24.356541  48.713081  4.935235\n",
       "4   14.834903  29.669806  3.851610\n",
       "..        ...        ...       ...\n",
       "94  29.674588  59.349176  5.447439\n",
       "95  32.358603  64.717205  5.688462\n",
       "96  22.284221  44.568441  4.720617\n",
       "97  23.194850  46.389700  4.816103\n",
       "98  28.836935  57.673870  5.370003\n",
       "\n",
       "[99 rows x 3 columns]"
      ]
     },
     "execution_count": 2,
     "metadata": {},
     "output_type": "execute_result"
    }
   ],
   "source": [
    "df=pd.DataFrame()\n",
    "df[\"rast\"]=np.random.normal(30, 10, 99)\n",
    "df[\"rast_kare\"]=df[\"rast\"]*2\n",
    "df[\"rast_kök\"]=np.sqrt(df[\"rast\"])\n",
    "df"
   ]
  },
  {
   "cell_type": "code",
   "execution_count": 3,
   "metadata": {},
   "outputs": [
    {
     "name": "stdout",
     "output_type": "stream",
     "text": [
      "29.57526474654368\n",
      "59.15052949308736\n",
      "5.362865075159047\n",
      "29.57526474654368\n",
      "59.15052949308736\n",
      "5.362865075159047\n"
     ]
    }
   ],
   "source": [
    "#Ortalama \n",
    "print(sum(df[\"rast\"]) / len(df[\"rast\"]))\n",
    "print(sum(df[\"rast_kare\"]) / len(df[\"rast_kare\"]))\n",
    "print(sum(df[\"rast_kök\"]) / len(df[\"rast_kök\"]))\n",
    "print(np.mean(df[\"rast\"]))\n",
    "print(np.mean(df[\"rast_kare\"]))\n",
    "print(np.mean(df[\"rast_kök\"]))"
   ]
  },
  {
   "cell_type": "code",
   "execution_count": 4,
   "metadata": {},
   "outputs": [
    {
     "name": "stdout",
     "output_type": "stream",
     "text": [
      "26.708180962368093\n",
      "53.41636192473619\n",
      "5.167995836140746\n",
      "29.374504104673704\n",
      "58.74900820934741\n",
      "5.419825099085182\n",
      "29.374504104673704\n",
      "58.74900820934741\n",
      "5.419825099085182\n"
     ]
    }
   ],
   "source": [
    "# Medyan\n",
    "print(df[\"rast\"][(len(df[\"rast\"])//2)])\n",
    "print(df[\"rast_kare\"][(len(df[\"rast\"])//2)])\n",
    "print(df[\"rast_kök\"][(len(df[\"rast\"])//2)])\n",
    "\n",
    "print(statistics.median(df[\"rast\"]))\n",
    "print(statistics.median(df[\"rast_kare\"]))\n",
    "print(statistics.median(df[\"rast_kök\"]))\n",
    "\n",
    "print(np.median(df[\"rast\"]))\n",
    "print(np.median(df[\"rast_kare\"]))\n",
    "print(np.median(df[\"rast_kök\"]))"
   ]
  },
  {
   "cell_type": "code",
   "execution_count": 5,
   "metadata": {},
   "outputs": [
    {
     "name": "stdout",
     "output_type": "stream",
     "text": [
      "6.328372396123974\n",
      "12.656744792247949\n",
      "2.5156256470556135\n",
      "14.471044884867794\n",
      "28.94208976973559\n",
      "3.804082660099251\n"
     ]
    }
   ],
   "source": [
    "# Mode\n",
    "(values, counts) = np.unique(df[\"rast\"], return_counts=True)\n",
    "aa= np.argmax(counts)\n",
    "print(values[aa])\n",
    "(values, counts) = np.unique(df[\"rast_kare\"], return_counts=True)\n",
    "aa1= np.argmax(counts)\n",
    "print(values[aa1])\n",
    "(values, counts) = np.unique(df[\"rast_kök\"], return_counts=True)\n",
    "aa3= np.argmax(counts)\n",
    "print(values[aa3])\n",
    "\n",
    "print(statistics.mode(df[\"rast\"]))\n",
    "print(statistics.mode(df[\"rast_kare\"]))\n",
    "print(statistics.mode(df[\"rast_kök\"]))"
   ]
  },
  {
   "cell_type": "code",
   "execution_count": 6,
   "metadata": {},
   "outputs": [
    {
     "name": "stdout",
     "output_type": "stream",
     "text": [
      "89.45730536842355\n",
      "357.8292214736942\n",
      "0.823258676388958\n",
      "89.45730536842355\n",
      "357.8292214736942\n",
      "0.823258676388958\n"
     ]
    }
   ],
   "source": [
    "# Varyans\n",
    "print((sum((df[\"rast\"]-np.mean(df[\"rast\"]))**2)) / (len(df[\"rast\"])-1))\n",
    "print((sum((df[\"rast_kare\"]-np.mean(df[\"rast_kare\"]))**2)) / (len(df[\"rast_kare\"])-1))\n",
    "print((sum((df[\"rast_kök\"]-np.mean(df[\"rast_kök\"]))**2)) / (len(df[\"rast_kök\"])-1))\n",
    "\n",
    "print(np.var(df[\"rast\"], ddof=1))\n",
    "print(np.var(df[\"rast_kare\"], ddof=1))\n",
    "print(np.var(df[\"rast_kök\"], ddof=1))\n"
   ]
  },
  {
   "cell_type": "code",
   "execution_count": 7,
   "metadata": {},
   "outputs": [
    {
     "name": "stdout",
     "output_type": "stream",
     "text": [
      "9.458187213648477\n",
      "18.916374427296955\n",
      "0.9073360327844133\n",
      "9.458187213648477\n",
      "18.916374427296955\n",
      "0.9073360327844133\n"
     ]
    }
   ],
   "source": [
    "# Standart Sapma\n",
    "print(np.sqrt((sum((df[\"rast\"]-np.mean(df[\"rast\"]))**2)) / (len(df[\"rast\"])-1)))\n",
    "print(np.sqrt((sum((df[\"rast_kare\"]-np.mean(df[\"rast_kare\"]))**2)) / (len(df[\"rast_kare\"])-1)))\n",
    "print(np.sqrt((sum((df[\"rast_kök\"]-np.mean(df[\"rast_kök\"]))**2)) / (len(df[\"rast_kök\"])-1)))\n",
    "\n",
    "print(np.std(df[\"rast\"], ddof=1))\n",
    "print(np.std(df[\"rast_kare\"], ddof=1))\n",
    "print(np.std(df[\"rast_kök\"], ddof=1))"
   ]
  },
  {
   "cell_type": "code",
   "execution_count": 8,
   "metadata": {},
   "outputs": [
    {
     "name": "stdout",
     "output_type": "stream",
     "text": [
      "0.950583581351788\n",
      "1.901167162703576\n",
      "0.09119070240956076\n",
      "0.950583581351788\n",
      "1.901167162703576\n",
      "0.09119070240956076\n"
     ]
    }
   ],
   "source": [
    "# Standart Hata\n",
    "print((np.sqrt((sum((df[\"rast\"]-np.mean(df[\"rast\"]))**2)) / (len(df[\"rast\"])-1)))/ np.sqrt(len(df[\"rast\"])))\n",
    "print((np.sqrt((sum((df[\"rast_kare\"]-np.mean(df[\"rast_kare\"]))**2)) / (len(df[\"rast_kare\"])-1)))/ np.sqrt(len(df[\"rast_kare\"])))\n",
    "print((np.sqrt((sum((df[\"rast_kök\"]-np.mean(df[\"rast_kök\"]))**2)) / (len(df[\"rast_kök\"])-1)))/ np.sqrt(len(df[\"rast_kök\"])))\n",
    "\n",
    "print(np.std(df[\"rast\"], ddof=1) / np.sqrt(len(df[\"rast\"])))\n",
    "print(np.std(df[\"rast_kare\"], ddof=1) / np.sqrt(len(df[\"rast_kare\"])))\n",
    "print(np.std(df[\"rast_kök\"], ddof=1) / np.sqrt(len(df[\"rast_kök\"])))"
   ]
  },
  {
   "cell_type": "code",
   "execution_count": null,
   "metadata": {},
   "outputs": [],
   "source": []
  },
  {
   "cell_type": "code",
   "execution_count": null,
   "metadata": {},
   "outputs": [],
   "source": []
  },
  {
   "cell_type": "code",
   "execution_count": null,
   "metadata": {},
   "outputs": [],
   "source": []
  },
  {
   "cell_type": "code",
   "execution_count": null,
   "metadata": {},
   "outputs": [],
   "source": []
  },
  {
   "cell_type": "code",
   "execution_count": null,
   "metadata": {},
   "outputs": [],
   "source": []
  },
  {
   "cell_type": "code",
   "execution_count": null,
   "metadata": {},
   "outputs": [],
   "source": []
  },
  {
   "cell_type": "code",
   "execution_count": null,
   "metadata": {},
   "outputs": [],
   "source": []
  }
 ],
 "metadata": {
  "kernelspec": {
   "display_name": "Python 3",
   "language": "python",
   "name": "python3"
  },
  "language_info": {
   "codemirror_mode": {
    "name": "ipython",
    "version": 3
   },
   "file_extension": ".py",
   "mimetype": "text/x-python",
   "name": "python",
   "nbconvert_exporter": "python",
   "pygments_lexer": "ipython3",
   "version": "3.8.5"
  }
 },
 "nbformat": 4,
 "nbformat_minor": 4
}
